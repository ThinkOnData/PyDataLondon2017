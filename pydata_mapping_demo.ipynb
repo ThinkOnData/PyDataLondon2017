{
 "cells": [
  {
   "cell_type": "markdown",
   "metadata": {
    "nbpresent": {
     "id": "8b63557d-343c-4341-b56b-c6db806a9c34"
    }
   },
   "source": [
    "# Plotting the Netherlands data\n",
    "\n",
    "* Dementia data by gemeente from [here](https://www.alzheimer-nederland.nl/sites/default/files/directupload/factsheet-dementie-per-gemeente.pdf). \n",
    "* Gemeente shapefile for 2015 from [here](https://www.arcgis.com/home/item.html?id=706fd44e86c34b2c9a06ddd477e22b9a#overview).\n",
    "* Air pollution maps from [here](http://www.rivm.nl/Onderwerpen/G/GCN_GDN_kaarten_2016/Concentratiekaarten/Cijfers_achter_de_concentratiekaarten:0E7aS9g0SoOMy-WHOlP07A/GCN_concentratiekaartbestanden_achterliggende_jaren).\n",
    "\n",
    "## Other great resources (that inspired this demo):\n",
    "\n",
    "* [Automating GIS processes course](https://automating-gis-processes.github.io/2016/index.html) from the University of Helsinki by Henrikki Tenkanen (lecturer) and Vuokko Heikinheimo (course assistant)\n",
    "* Kelsey Jordahl's (author of GeoPandas) pyData [talk](https://vimeo.com/79535664)"
   ]
  },
  {
   "cell_type": "markdown",
   "metadata": {
    "nbpresent": {
     "id": "2fcc3b66-74c2-442b-8b00-fdfe14674f54"
    }
   },
   "source": [
    "# GeoPandas "
   ]
  },
  {
   "cell_type": "code",
   "execution_count": null,
   "metadata": {
    "collapsed": true,
    "nbpresent": {
     "id": "2a56108f-7a71-4b7d-a753-4db5874de5a0"
    }
   },
   "outputs": [],
   "source": [
    "import geopandas as gpd\n",
    "import matplotlib.pyplot as plt\n",
    "\n",
    "%matplotlib inline\n",
    "\n",
    "plt.rcParams['figure.figsize'] = (10,12)\n",
    "plt.rcParams['legend.fontsize'] = 18"
   ]
  },
  {
   "cell_type": "code",
   "execution_count": null,
   "metadata": {
    "nbpresent": {
     "id": "cc2dfaab-edc8-4758-ad31-8fbeb1f7ed2d"
    }
   },
   "outputs": [],
   "source": [
    "gemeenteGDF = gpd.read_file('GEO.Gemeente_2015.shp') #shapefiles, widely available online\n",
    "\n",
    "gemeenteGDF.sample(5)"
   ]
  },
  {
   "cell_type": "code",
   "execution_count": null,
   "metadata": {
    "nbpresent": {
     "id": "86e170a5-4cf1-4fcc-a576-baf7d278f8d1"
    }
   },
   "outputs": [],
   "source": [
    "gemeenteGDF.iloc[1].geometry # an example of a single polygon"
   ]
  },
  {
   "cell_type": "code",
   "execution_count": null,
   "metadata": {
    "nbpresent": {
     "id": "283870b9-5c1d-4087-a7cd-ba2f0c9795be"
    }
   },
   "outputs": [],
   "source": [
    "gemeenteGDF.iloc[3].geometry # a more complicated shape - MultiPolygon, with a hole in one of the parts"
   ]
  },
  {
   "cell_type": "code",
   "execution_count": null,
   "metadata": {
    "collapsed": true,
    "nbpresent": {
     "id": "bd8d04e3-b3be-4e91-8539-e20543e746c8"
    }
   },
   "outputs": [],
   "source": [
    "gemeenteGDF.plot() # geopandas knows how to plot itself"
   ]
  },
  {
   "cell_type": "code",
   "execution_count": null,
   "metadata": {
    "collapsed": true,
    "nbpresent": {
     "id": "c890b2be-938b-4ac6-9c4b-aee82ca5907e"
    }
   },
   "outputs": [],
   "source": [
    "# the usual matplotlib commands work as expected\n",
    "\n",
    "fig, ax = plt.subplots(figsize=(10,12))\n",
    "\n",
    "gemeenteGDF.plot(ax=ax, color='grey')\n",
    "\n",
    "ax.set_xticklabels([])\n",
    "ax.set_xticks([])\n",
    "ax.set_yticklabels([])\n",
    "ax.set_yticks([])\n",
    "\n",
    "ax.set_title('Dutch gemeente (2015)', fontsize=20)"
   ]
  },
  {
   "cell_type": "markdown",
   "metadata": {
    "nbpresent": {
     "id": "97bcb010-a50d-4d93-ae82-5961f283b279"
    }
   },
   "source": [
    "# Choropleth maps - coloring regions by a property"
   ]
  },
  {
   "cell_type": "code",
   "execution_count": null,
   "metadata": {
    "nbpresent": {
     "id": "54223ff9-c4e6-48be-83ce-277d4b9e1ebc"
    }
   },
   "outputs": [],
   "source": [
    "import pandas as pd\n",
    "\n",
    "# load Alzheimer's data into a DataFrame\n",
    "\n",
    "alzDF = pd.read_csv('alz_data_for_demo.csv', index_col=0)\n",
    "\n",
    "alzDF.sample(5)"
   ]
  },
  {
   "cell_type": "code",
   "execution_count": null,
   "metadata": {
    "collapsed": true,
    "nbpresent": {
     "id": "d4906102-7397-4fa4-abdc-c83c1e1c96a5"
    }
   },
   "outputs": [],
   "source": [
    "alzGDF = pd.merge(gemeenteGDF, alzDF, left_on='GMCODE', right_on='Region Code') # usual pandas merge"
   ]
  },
  {
   "cell_type": "code",
   "execution_count": null,
   "metadata": {
    "nbpresent": {
     "id": "cdd5b7e9-a6ff-4048-8198-777a0ec1b9b6"
    }
   },
   "outputs": [],
   "source": [
    "fig,ax = plt.subplots()\n",
    "\n",
    "gemeenteGDF.plot(ax=ax, color='#dddddd', alpha=0.5) # grey base, shows regions with missing data\n",
    "\n",
    "###########################\n",
    "\n",
    "# overlay choropleth map\n",
    "# only pick gemeente with known prevalence\n",
    "alzGDF[~alzGDF['Alzheimer prevalence'].isnull()].plot(ax=ax, column='Alzheimer prevalence', cmap='Purples', \n",
    "                                                      scheme='Fisher_Jenks', k=6, legend=True, alpha=1.)\n",
    "\n",
    "###########################\n",
    "\n",
    "ax.set_xticklabels([])\n",
    "ax.set_xticks([])\n",
    "ax.set_yticklabels([])\n",
    "ax.set_yticks([])\n",
    "\n",
    "ax.set_title('Dementia prevalence (2015)', fontsize=20)"
   ]
  },
  {
   "cell_type": "markdown",
   "metadata": {
    "nbpresent": {
     "id": "79c4658b-d3c6-4e5e-97ea-bc833573780c"
    }
   },
   "source": [
    "# Spatial joins"
   ]
  },
  {
   "cell_type": "code",
   "execution_count": null,
   "metadata": {
    "nbpresent": {
     "id": "fd358bee-2da8-4cb4-8b2b-49a012cc9dea"
    }
   },
   "outputs": [],
   "source": [
    "import numpy as np\n",
    "\n",
    "pm25map = None\n",
    "\n",
    "# load and sum the PM2.5 data for individual years skipping the header\n",
    "for yr in range(2011,2015):\n",
    "    if pm25map is None:\n",
    "        pm25map = np.loadtxt('/home/ondrej/experiment/air_quality/conc_pm25_{0}.asc'.format(yr), skiprows=6)\n",
    "    else:\n",
    "        pm25map = pm25map + np.loadtxt('/home/ondrej/experiment/air_quality/conc_pm25_{0}.asc'.format(yr), skiprows=6)\n",
    "\n",
    "# the header specifies that NaNs are -999\n",
    "pm25map[pm25map < 0] = np.nan\n",
    "\n",
    "#plot data\n",
    "fig,ax = plt.subplots(figsize=(12,12))\n",
    "\n",
    "im = ax.imshow(pm25map, cmap='magma')\n",
    "cbar = plt.colorbar(im)\n",
    "cbar.ax.set_ylabel(r'PM2.5 ($\\mu$g m$^{-3}$)', fontsize=15)\n",
    "\n",
    "ax.set_xticklabels([])\n",
    "ax.set_xticks([])\n",
    "ax.set_yticklabels([])\n",
    "ax.set_yticks([])\n",
    "ax.set_title(r'$\\Sigma$ PM2.5 (2011-2014)', fontsize=18)"
   ]
  },
  {
   "cell_type": "code",
   "execution_count": null,
   "metadata": {},
   "outputs": [],
   "source": [
    "from shapely.geometry import Point\n",
    "\n",
    "ll = [0,300000] #lower left corner in EPSG:28992 <- specified in README\n",
    "\n",
    "# x and y distances (in meters) of the individual cells from the lower left corner\n",
    "# good that EPSG:28992 is in meters\n",
    "x,y = np.meshgrid(np.arange(pm25map.shape[1]),np.arange(pm25map.shape[0]-1,-1,-1))\n",
    "x *= 1000\n",
    "y *= 1000\n",
    "\n",
    "# each point of the grid starts at the same location (lower left corner)\n",
    "lonLL = ll[0]*np.ones(pm25map.shape)\n",
    "latLL = ll[1]*np.ones(pm25map.shape)\n",
    "\n",
    "# assign coordinates to each grid cell\n",
    "lon, lat = lonLL+x,latLL+y\n",
    "\n",
    "# defining shapely points to be able to to geospatial operations\n",
    "coords = [Point(x,y) for x,y in zip(lon.reshape(lon.size),lat.reshape(lat.size))]\n",
    "values = pm25map.reshape(pm25map.size)\n",
    "\n",
    "#define GeoDataFrame\n",
    "pmGDF = gpd.GeoDataFrame({'pm25': values, 'geometry': coords}).dropna()\n",
    "\n",
    "#assign its coordinate system\n",
    "pmGDF.crs = gemeenteGDF.crs\n",
    "\n",
    "pmGDF.sample(5)"
   ]
  },
  {
   "cell_type": "code",
   "execution_count": null,
   "metadata": {
    "nbpresent": {
     "id": "46249c47-bffd-461b-b024-bd586aec3151"
    }
   },
   "outputs": [],
   "source": [
    "# spatial joint itself - 'right' means the final geometry will come from the right GeoDataFrame\n",
    "# i.e. each point of the 1x1km grid will end up with the ful info of the gemeente it belongs to\n",
    "pm_joinedGDF = gpd.sjoin(pmGDF, gemeenteGDF, how='right', op='within')\n",
    "\n",
    "# calculate mean PM2.5 for each gemeente\n",
    "pm_joinedGDF = pm_joinedGDF.groupby('GMCODE').mean()['pm25'].to_frame()\n",
    "\n",
    "pm_joinedGDF.sample(5)"
   ]
  },
  {
   "cell_type": "code",
   "execution_count": null,
   "metadata": {
    "nbpresent": {
     "id": "95bd3129-796e-453f-9edc-6ba60e5e019c"
    }
   },
   "outputs": [],
   "source": [
    "# put the mean PM2.5 into the original GeoDataFrame\n",
    "gemGDF = pd.merge(gemeenteGDF,pm_joinedGDF, left_on='GMCODE', right_index=True)\n",
    "\n",
    "gemGDF.sample(5)"
   ]
  },
  {
   "cell_type": "code",
   "execution_count": null,
   "metadata": {
    "nbpresent": {
     "id": "8f11295e-37ed-428c-b30a-39291aee75a3"
    }
   },
   "outputs": [],
   "source": [
    "fig, ax = plt.subplots(figsize=(10,12))\n",
    "\n",
    "gemGDF.plot(ax=ax, color='#dddddd', alpha=0.5)\n",
    "gemGDF[~gemGDF['pm25'].isnull()].plot(ax=ax, column='pm25', cmap='Reds', scheme='Fisher_Jenks', k=7,\n",
    "                                     legend=True, alpha=1.0)\n",
    "\n",
    "ax.set_xticklabels([])\n",
    "ax.set_xticks([])\n",
    "ax.set_yticklabels([])\n",
    "ax.set_yticks([])\n",
    "\n",
    "ax.set_title('PM2.5 (2011-2014)', fontsize=20)"
   ]
  },
  {
   "cell_type": "markdown",
   "metadata": {
    "nbpresent": {
     "id": "b1391de5-ed4c-4ef2-b1b5-899942c91586"
    }
   },
   "source": [
    "# 2 Interactive maps"
   ]
  },
  {
   "cell_type": "markdown",
   "metadata": {
    "nbpresent": {
     "id": "f746eb0e-6305-47d9-90c8-9875318c19f0"
    }
   },
   "source": [
    "## 2.1 mplleaflet\n",
    "\n",
    "Exports matplotlib into leaflet, a philosophy similar to mpld3. Quite simple, but unable to, say, plot legend (will fail on that)."
   ]
  },
  {
   "cell_type": "code",
   "execution_count": null,
   "metadata": {
    "collapsed": true,
    "nbpresent": {
     "id": "a0ee1196-78b2-4d39-a428-08d75be96be0"
    }
   },
   "outputs": [],
   "source": [
    "import mplleaflet\n",
    "\n",
    "# this we did above\n",
    "fig, ax = plt.subplots(figsize=(10,12))\n",
    "\n",
    "gemGDF.plot(ax=ax, color='#dddddd', alpha=0.9)\n",
    "gemGDF[~gemGDF['pm25'].isnull()].plot(ax=ax, column='pm25', cmap='Reds', scheme='Fisher_Jenks', k=9, alpha=1.)\n",
    "\n",
    "# this is new - don't forget the appropriate CRS; you can also specify the path of the resulting file\n",
    "mplleaflet.show(crs=gemGDF.crs, path='mplleaflet_AQ_NL.html')"
   ]
  },
  {
   "cell_type": "markdown",
   "metadata": {
    "nbpresent": {
     "id": "91590dbe-d7ba-43fe-9bb7-4f1127846cdd"
    }
   },
   "source": [
    "## 2.2 folium\n",
    "\n",
    "Also allows for interactive maps. With respect to ```mplleaflet``` allows more flexibility, but requires a tiny bit more preprocessing."
   ]
  },
  {
   "cell_type": "code",
   "execution_count": null,
   "metadata": {
    "collapsed": true
   },
   "outputs": [],
   "source": [
    "gem4326GDF['geometry'] = gem4326GDF['geometry'].apply(lambda x: x.buffer(0))"
   ]
  },
  {
   "cell_type": "code",
   "execution_count": null,
   "metadata": {
    "collapsed": true,
    "nbpresent": {
     "id": "d2dd7e64-c08e-41c3-9dd8-eb6c32a3620f"
    }
   },
   "outputs": [],
   "source": [
    "import folium\n",
    "\n",
    "gem4326GDF = gemGDF.to_crs(epsg='4326') # transform to WGS84\n",
    "gem4326\n",
    "jsontxt = gem4326GDF.to_json() # transform dataframe into JSON\n",
    "\n",
    "# define a map instance with initial center and zoom\n",
    "m = folium.Map(location=[52.0,5.5], zoom_start=7, control_scale=True)\n",
    "\n",
    "m.choropleth(geo_str=jsontxt, data=gem4326GDF, columns=['GMCODE','pm25'], key_on=\"properties.GMCODE\",\n",
    "                   fill_color='YlOrRd', fill_opacity=0.5, line_opacity=0.9, line_color='black', line_weight=0.4,\n",
    "             legend_name='PM2.5 in Netherlands', )\n",
    "\n",
    "# alternatively, just call m to display in notebook\n",
    "m.save(outfile='folium_AQ_NL_simple.html')"
   ]
  },
  {
   "cell_type": "markdown",
   "metadata": {},
   "source": [
    "```Folium``` also allows for popups that appear when an object with a popup bound to it is clicked. Popups can contain a lot of different things (as shown [here](http://nbviewer.jupyter.org/github/bibmartin/folium/blob/issue288/examples/Popups.ipynb)). Below, we put the PM2.5 value into a popup that is tied to a marker sitting in the center of each gemeente. This is simple, but also\n",
    "\n",
    "* impractical, since to get the info you have to click the small marker (that can also lie outside the gemeente for a particularly weird shape)\n",
    "* quite ugly"
   ]
  },
  {
   "cell_type": "code",
   "execution_count": null,
   "metadata": {
    "collapsed": true,
    "nbpresent": {
     "id": "ddbc143b-33d3-4fbe-901f-48764bfac51e"
    }
   },
   "outputs": [],
   "source": [
    "m = folium.Map(location=[52.0,5.5], zoom_start=7, control_scale=True)\n",
    "\n",
    "# marker cluster merges markers that are close togerther under current zoom\n",
    "marker_cluster = folium.MarkerCluster().add_to(m)\n",
    "\n",
    "m.choropleth(geo_str=jsontxt, data=gem4326GDF, columns=['GMCODE','pm25'], key_on=\"properties.GMCODE\",\n",
    "                   fill_color='YlOrRd', fill_opacity=0.5, line_opacity=0.9, line_color='black', line_weight=0.4,\n",
    "             legend_name='PM2.5 in Netherlands', )\n",
    "\n",
    "for idx, row in gem4326GDF.iterrows():\n",
    "    # Get lat and lon of points\n",
    "    lon = row['geometry'].centroid.x\n",
    "    lat = row['geometry'].centroid.y\n",
    "\n",
    "    pmValue = row['pm25']\n",
    "    # Add marker to the map and tie a popup to it - careful about the order of lat and lon!\n",
    "    folium.RegularPolygonMarker(location=[lat, lon], popup='PM2.5: {0:.2f}'.format(pmValue),\n",
    "                               fill_color='#2b8cbe', number_of_sides=10, radius=3).add_to(marker_cluster)\n",
    "\n",
    "m.save(outfile='folium_AQ_NL_ugly_popups.html')"
   ]
  },
  {
   "cell_type": "markdown",
   "metadata": {},
   "source": [
    "With a bit more work, however, assigning popups to the shapes themselves is possible (i.e., clicking anywhere within a gemeente shows a popup). ```style_function``` has to be defined by the programmer, however."
   ]
  },
  {
   "cell_type": "code",
   "execution_count": null,
   "metadata": {
    "collapsed": true
   },
   "outputs": [],
   "source": [
    "m = folium.Map(location=[52.0,5.5], zoom_start=7, control_scale=True)\n",
    "\n",
    "style_function = lambda feature: {\n",
    "    'fillColor': 'grey', \n",
    "    'color': 'white',\n",
    "    'weight': 1,\n",
    "    'opacity': 0.8,\n",
    "    'fillOpacity': 0.8\n",
    "}\n",
    "\n",
    "for gemeente,row in gem4326GDF.iterrows():\n",
    "    poly = folium.GeoJson(dict(row), style_function = style_function)\n",
    "    poly.add_children(folium.Popup('{0}: {1:.2f}'.format(row['GMNAAM'],row['pm25'])))\n",
    "    poly.add_to(m)\n",
    "\n",
    "m.save(outfile='folium_AQ_NL.html')"
   ]
  },
  {
   "cell_type": "markdown",
   "metadata": {
    "nbpresent": {
     "id": "53c3d092-0213-472e-bc81-b741fd16c2ce"
    }
   },
   "source": [
    "## 2.3 bokeh\n",
    "\n",
    "Another package that produces good-loking and interacive visualizations. Improving upon ```folium```, it contains ```HoverTool```s, that show information when the mouse is hovered over an area. The downsides are, that plotting requires a bit of preprocessing, as ```bokeh``` doesn't handle shapes directly and we need to extract the lists of polygon coordinates. Furthermore, it can't handle polygons with holes."
   ]
  },
  {
   "cell_type": "code",
   "execution_count": null,
   "metadata": {
    "collapsed": true,
    "nbpresent": {
     "id": "46f4b619-8311-438b-9371-d53e70a75654"
    }
   },
   "outputs": [],
   "source": [
    "from bokeh.models import ColumnDataSource, LinearColorMapper, ColorBar, HoverTool, FixedTicker\n",
    "from bokeh.palettes import RdYlBu11 as palette\n",
    "from bokeh.plotting import figure\n",
    "from bokeh.io import show, output_notebook, output_file, save\n",
    "\n",
    "# allows for output into notebook\n",
    "output_notebook()\n"
   ]
  },
  {
   "cell_type": "code",
   "execution_count": null,
   "metadata": {
    "collapsed": true,
    "nbpresent": {
     "id": "a93239ae-904c-41ae-9062-e57609a30b2c"
    }
   },
   "outputs": [],
   "source": [
    "# coordinate transformation (in case we didn't do it in the folium section)\n",
    "gem4326GDF = gemGDF.to_crs(epsg='4326')\n",
    "\n",
    "gemGDF.geometry.apply(lambda x: x.geom_type).unique()"
   ]
  },
  {
   "cell_type": "markdown",
   "metadata": {},
   "source": [
    "Ther are both polygons and multipolygons in our data, that need to be treated separately."
   ]
  },
  {
   "cell_type": "code",
   "execution_count": null,
   "metadata": {
    "collapsed": true,
    "nbpresent": {
     "id": "852877f8-5031-4dc0-a51f-ff5d1a764a3e"
    }
   },
   "outputs": [],
   "source": [
    "# lists of lists of coordinates\n",
    "xs = []\n",
    "ys = []\n",
    "\n",
    "#lists for additional info to be shown by the hovertool\n",
    "names = []\n",
    "pm25s = []\n",
    "\n",
    "for ind,row in gem4326GDF.iterrows():\n",
    "    if row['geometry'].geom_type == 'Polygon':\n",
    "        geomList = [row['geometry']]\n",
    "    else:\n",
    "        geomList = row['geometry']\n",
    "    for poly in geomList:\n",
    "        # extract the coordinates of the exterior of the polygon (or individual polygons within a multipolygon)\n",
    "        # holes are ignored here\n",
    "        xs.append(list(poly.exterior.coords.xy[0]))\n",
    "        ys.append(list(poly.exterior.coords.xy[1]))\n",
    "        names.append(row['GMNAAM'])\n",
    "        pm25s.append(row['pm25'])\n",
    "\n",
    "sourceData = ColumnDataSource(data=pd.DataFrame({'x': xs, 'y': ys, 'name': names, 'pm25': pm25s}))            "
   ]
  },
  {
   "cell_type": "code",
   "execution_count": null,
   "metadata": {
    "collapsed": true,
    "nbpresent": {
     "id": "17de349e-7c63-450b-87e4-4a12b6e41d4c"
    }
   },
   "outputs": [],
   "source": [
    "color_mapper = LinearColorMapper(palette=palette)\n",
    "\n",
    "# tools to be available in the final visualization\n",
    "TOOLS = \"pan,wheel_zoom,box_zoom,reset,hover,save\"\n",
    "\n",
    "# define the figure\n",
    "p = figure(title=\"PM2.5 in Netherlands (2011-2014)\", tools=TOOLS,\n",
    "          x_axis_location=None, y_axis_location=None)\n",
    "\n",
    "# plot the individual gemeente as patches\n",
    "p.patches('x', 'y', source=sourceData,\n",
    "         fill_color={'field': 'pm25', 'transform': color_mapper},\n",
    "         fill_alpha=1.0, line_color=\"black\", line_width=0.05)\n",
    "\n",
    "# add colorbar on the left side\n",
    "color_bar = ColorBar(color_mapper=color_mapper, location=(0,0), title='PM2.5', title_standoff=10,\n",
    "                     ticker=FixedTicker(ticks=np.linspace(min(pm25s),max(pm25s),8)), label_standoff=12)\n",
    "p.add_layout(color_bar, 'left')\n",
    "\n",
    "#define the over tool\n",
    "hover = p.select_one(HoverTool)\n",
    "hover.point_policy = \"follow_mouse\"\n",
    "hover.tooltips = [\n",
    "    (\"Gemeente\", \"@name\"),\n",
    "    (\"PM2.5 ug/m3\", \"@pm25\"),\n",
    "]\n",
    "\n",
    "# h = show(p) #<- this to show in the notebook\n",
    "h = save(p,'bokeh_AQ_NL.html') #<- this to save to a file"
   ]
  }
 ],
 "metadata": {
  "kernelspec": {
   "display_name": "Python [default]",
   "language": "python",
   "name": "python3"
  },
  "language_info": {
   "codemirror_mode": {
    "name": "ipython",
    "version": 3
   },
   "file_extension": ".py",
   "mimetype": "text/x-python",
   "name": "python",
   "nbconvert_exporter": "python",
   "pygments_lexer": "ipython3",
   "version": "3.5.3"
  },
  "nbpresent": {
   "slides": {
    "01a27b5d-656b-4dd7-86b8-a2c5783928e9": {
     "id": "01a27b5d-656b-4dd7-86b8-a2c5783928e9",
     "prev": "f5296d0b-0871-4fce-953d-3cf1695bf7d1",
     "regions": {
      "1baa0ca1-b59e-436f-b654-e1354a6c1304": {
       "attrs": {
        "height": 0.8,
        "width": 0.8,
        "x": 0.1,
        "y": 0.1
       },
       "content": {
        "cell": "60390136-a750-430b-a27e-04d9593cc13e",
        "part": "whole"
       },
       "id": "1baa0ca1-b59e-436f-b654-e1354a6c1304"
      }
     }
    },
    "1991c90c-4afd-4fe1-bbc6-d8f4b934dd68": {
     "id": "1991c90c-4afd-4fe1-bbc6-d8f4b934dd68",
     "prev": "7a7fd14b-42f0-4d14-8e50-654564a40823",
     "regions": {
      "db978a53-c41b-49e3-a5eb-613ab762691d": {
       "attrs": {
        "height": 0.8,
        "width": 0.8,
        "x": 0.1,
        "y": 0.1
       },
       "content": {
        "cell": "2a56108f-7a71-4b7d-a753-4db5874de5a0",
        "part": "whole"
       },
       "id": "db978a53-c41b-49e3-a5eb-613ab762691d"
      }
     }
    },
    "30745ce6-fb3e-47eb-8630-f707db684d24": {
     "id": "30745ce6-fb3e-47eb-8630-f707db684d24",
     "prev": "f217a93d-ec6a-4dcc-a8b7-399bcb7eae70",
     "regions": {
      "628f9358-a428-46fc-8af3-8a1b74eda5db": {
       "attrs": {
        "height": 0.8,
        "width": 0.8,
        "x": 0.1,
        "y": 0.1
       },
       "content": {
        "cell": "46249c47-bffd-461b-b024-bd586aec3151",
        "part": "whole"
       },
       "id": "628f9358-a428-46fc-8af3-8a1b74eda5db"
      }
     }
    },
    "32e39bff-d193-4488-b7a5-b5ee5a046483": {
     "id": "32e39bff-d193-4488-b7a5-b5ee5a046483",
     "prev": "52f5a37c-2c6e-4c7e-a9fd-bdf837948ae1",
     "regions": {
      "c8797e70-c910-4e30-95bd-f340b5771d15": {
       "attrs": {
        "height": 0.8,
        "width": 0.8,
        "x": 0.1,
        "y": 0.1
       },
       "content": {
        "cell": "97bcb010-a50d-4d93-ae82-5961f283b279",
        "part": "whole"
       },
       "id": "c8797e70-c910-4e30-95bd-f340b5771d15"
      }
     }
    },
    "367a3d2f-2c5b-4a4d-a53e-8e2cdcb33bfc": {
     "id": "367a3d2f-2c5b-4a4d-a53e-8e2cdcb33bfc",
     "prev": "cfc5684c-5a30-4fac-9da9-d2a483acbd9f",
     "regions": {
      "6970d1db-1d58-4d4e-9f2c-9620ad467c38": {
       "attrs": {
        "height": 0.8,
        "width": 0.8,
        "x": 0.1,
        "y": 0.1
       },
       "content": {
        "cell": "f257f4fc-e037-487f-b94f-be51135a8bed",
        "part": "whole"
       },
       "id": "6970d1db-1d58-4d4e-9f2c-9620ad467c38"
      }
     }
    },
    "40f12f73-fc91-4ffd-8dbc-581b507312be": {
     "id": "40f12f73-fc91-4ffd-8dbc-581b507312be",
     "prev": "9c9564e1-8677-47e8-9cbc-313f72289072",
     "regions": {
      "90dae9dd-7256-4448-93d5-231dacfb1bb7": {
       "attrs": {
        "height": 0.8,
        "width": 0.8,
        "x": 0.1,
        "y": 0.1
       },
       "content": {
        "cell": "f746eb0e-6305-47d9-90c8-9875318c19f0",
        "part": "whole"
       },
       "id": "90dae9dd-7256-4448-93d5-231dacfb1bb7"
      }
     }
    },
    "4a9dc472-0c5e-459d-84ff-1c0efda4d366": {
     "id": "4a9dc472-0c5e-459d-84ff-1c0efda4d366",
     "prev": "c72b858e-1958-417e-9cd6-d10d9c98349e",
     "regions": {
      "b4016625-f212-42f2-8873-c3a4d351916f": {
       "attrs": {
        "height": 0.8,
        "width": 0.8,
        "x": 0.1,
        "y": 0.1
       },
       "content": {
        "cell": "ddbc143b-33d3-4fbe-901f-48764bfac51e",
        "part": "whole"
       },
       "id": "b4016625-f212-42f2-8873-c3a4d351916f"
      }
     }
    },
    "52f5a37c-2c6e-4c7e-a9fd-bdf837948ae1": {
     "id": "52f5a37c-2c6e-4c7e-a9fd-bdf837948ae1",
     "prev": "5f341d55-4ade-4d21-9c04-96b1d0882fe5",
     "regions": {
      "5aa1b358-97aa-40b0-95a8-bfbfb17d7d73": {
       "attrs": {
        "height": 0.8,
        "width": 0.8,
        "x": 0.1,
        "y": 0.1
       },
       "content": {
        "cell": "c890b2be-938b-4ac6-9c4b-aee82ca5907e",
        "part": "whole"
       },
       "id": "5aa1b358-97aa-40b0-95a8-bfbfb17d7d73"
      }
     }
    },
    "5396f312-2d0b-4469-b676-918724cc1b09": {
     "id": "5396f312-2d0b-4469-b676-918724cc1b09",
     "prev": "e7e1632a-09eb-49c8-9d31-bf9c206712d5",
     "regions": {
      "890227b8-7633-4c95-8135-f2202560f4aa": {
       "attrs": {
        "height": 0.8,
        "width": 0.8,
        "x": 0.1,
        "y": 0.1
       },
       "content": {
        "cell": "852877f8-5031-4dc0-a51f-ff5d1a764a3e",
        "part": "whole"
       },
       "id": "890227b8-7633-4c95-8135-f2202560f4aa"
      }
     }
    },
    "5f341d55-4ade-4d21-9c04-96b1d0882fe5": {
     "id": "5f341d55-4ade-4d21-9c04-96b1d0882fe5",
     "prev": "d8945a4d-95c3-445e-9485-15866504afe1",
     "regions": {
      "24bfd894-949a-4f02-a55d-11bc5b2903a5": {
       "attrs": {
        "height": 0.8,
        "width": 0.8,
        "x": 0.1,
        "y": 0.1
       },
       "content": {
        "cell": "bd8d04e3-b3be-4e91-8539-e20543e746c8",
        "part": "whole"
       },
       "id": "24bfd894-949a-4f02-a55d-11bc5b2903a5"
      }
     }
    },
    "6daf64ca-8b87-4ca7-af50-6da5cfd696d3": {
     "id": "6daf64ca-8b87-4ca7-af50-6da5cfd696d3",
     "prev": "4a9dc472-0c5e-459d-84ff-1c0efda4d366",
     "regions": {
      "1a8c8c6b-6194-44b0-8ab5-198a3352d729": {
       "attrs": {
        "height": 0.8,
        "width": 0.8,
        "x": 0.1,
        "y": 0.1
       },
       "content": {
        "cell": "53c3d092-0213-472e-bc81-b741fd16c2ce",
        "part": "whole"
       },
       "id": "1a8c8c6b-6194-44b0-8ab5-198a3352d729"
      }
     }
    },
    "7a7fd14b-42f0-4d14-8e50-654564a40823": {
     "id": "7a7fd14b-42f0-4d14-8e50-654564a40823",
     "prev": "cf28a623-c753-47a3-af52-903890a32abf",
     "regions": {
      "bfda7010-443a-4cea-b81e-95ab6366c1d6": {
       "attrs": {
        "height": 0.8,
        "width": 0.8,
        "x": 0.1,
        "y": 0.1
       },
       "content": {
        "cell": "2fcc3b66-74c2-442b-8b00-fdfe14674f54",
        "part": "whole"
       },
       "id": "bfda7010-443a-4cea-b81e-95ab6366c1d6"
      }
     }
    },
    "892ccba9-bc13-4176-b60c-9032038d62a6": {
     "id": "892ccba9-bc13-4176-b60c-9032038d62a6",
     "prev": "9189667e-15f9-441f-9901-75a3d11cb617",
     "regions": {
      "f557a767-5687-4464-8ddf-f41d0298a147": {
       "attrs": {
        "height": 0.8,
        "width": 0.8,
        "x": 0.1,
        "y": 0.1
       },
       "content": {
        "cell": "cdd5b7e9-a6ff-4048-8198-777a0ec1b9b6",
        "part": "whole"
       },
       "id": "f557a767-5687-4464-8ddf-f41d0298a147"
      }
     }
    },
    "9189667e-15f9-441f-9901-75a3d11cb617": {
     "id": "9189667e-15f9-441f-9901-75a3d11cb617",
     "prev": "fe52ca83-78e6-49f5-a727-d837766e4ac6",
     "regions": {
      "6a16e82a-10a3-45a5-a565-d4fb1b435504": {
       "attrs": {
        "height": 0.8,
        "width": 0.8,
        "x": 0.1,
        "y": 0.1
       },
       "content": {
        "cell": "d4906102-7397-4fa4-abdc-c83c1e1c96a5",
        "part": "whole"
       },
       "id": "6a16e82a-10a3-45a5-a565-d4fb1b435504"
      }
     }
    },
    "9c9564e1-8677-47e8-9cbc-313f72289072": {
     "id": "9c9564e1-8677-47e8-9cbc-313f72289072",
     "prev": "aa791bc9-f8f4-4b54-b9b7-53fae8b1d52a",
     "regions": {
      "0b1b246b-ce0d-448f-ad66-5f30a53da192": {
       "attrs": {
        "height": 0.8,
        "width": 0.8,
        "x": 0.1,
        "y": 0.1
       },
       "content": {
        "cell": "b1391de5-ed4c-4ef2-b1b5-899942c91586",
        "part": "whole"
       },
       "id": "0b1b246b-ce0d-448f-ad66-5f30a53da192"
      }
     }
    },
    "9cd97ed3-ad26-4db3-9843-9535651e63d9": {
     "id": "9cd97ed3-ad26-4db3-9843-9535651e63d9",
     "prev": "cdabbe3b-8939-46dc-bc4b-b3dc06658586",
     "regions": {
      "01841e98-e77b-462b-af6d-c46bad9ed19f": {
       "attrs": {
        "height": 0.8,
        "width": 0.8,
        "x": 0.1,
        "y": 0.1
       },
       "content": {
        "cell": "86e170a5-4cf1-4fcc-a576-baf7d278f8d1",
        "part": "whole"
       },
       "id": "01841e98-e77b-462b-af6d-c46bad9ed19f"
      }
     }
    },
    "aa791bc9-f8f4-4b54-b9b7-53fae8b1d52a": {
     "id": "aa791bc9-f8f4-4b54-b9b7-53fae8b1d52a",
     "prev": "addb08b0-7448-42f8-accb-e6a552dfd7e0",
     "regions": {
      "5abed9ff-4f01-46e0-beb5-3e00ad68e660": {
       "attrs": {
        "height": 0.8,
        "width": 0.8,
        "x": 0.1,
        "y": 0.1
       },
       "content": {
        "cell": "8f11295e-37ed-428c-b30a-39291aee75a3",
        "part": "whole"
       },
       "id": "5abed9ff-4f01-46e0-beb5-3e00ad68e660"
      }
     }
    },
    "addb08b0-7448-42f8-accb-e6a552dfd7e0": {
     "id": "addb08b0-7448-42f8-accb-e6a552dfd7e0",
     "prev": "30745ce6-fb3e-47eb-8630-f707db684d24",
     "regions": {
      "99a7b1d3-c583-45a3-9b78-dbe8ae8dc8a9": {
       "attrs": {
        "height": 0.8,
        "width": 0.8,
        "x": 0.1,
        "y": 0.1
       },
       "content": {
        "cell": "95bd3129-796e-453f-9edc-6ba60e5e019c",
        "part": "whole"
       },
       "id": "99a7b1d3-c583-45a3-9b78-dbe8ae8dc8a9"
      }
     }
    },
    "aff149e1-3c36-486d-99cc-e31f496c6761": {
     "id": "aff149e1-3c36-486d-99cc-e31f496c6761",
     "prev": "367a3d2f-2c5b-4a4d-a53e-8e2cdcb33bfc",
     "regions": {
      "a5d84553-5633-4108-a9a5-777af371c210": {
       "attrs": {
        "height": 0.8,
        "width": 0.8,
        "x": 0.0021739130434782535,
        "y": 0.11630434782608699
       },
       "content": {
        "cell": "104debb8-8567-422d-836e-4ea91272a285",
        "part": "whole"
       },
       "id": "a5d84553-5633-4108-a9a5-777af371c210"
      }
     }
    },
    "bb851de2-c338-4aa5-ae9d-5c8af29d9c3f": {
     "id": "bb851de2-c338-4aa5-ae9d-5c8af29d9c3f",
     "prev": "40f12f73-fc91-4ffd-8dbc-581b507312be",
     "regions": {
      "b04d1919-d4bc-4b15-856d-de886824ecf5": {
       "attrs": {
        "height": 0.8,
        "width": 0.8,
        "x": 0.1,
        "y": 0.1
       },
       "content": {
        "cell": "a0ee1196-78b2-4d39-a428-08d75be96be0",
        "part": "whole"
       },
       "id": "b04d1919-d4bc-4b15-856d-de886824ecf5"
      }
     }
    },
    "c72b858e-1958-417e-9cd6-d10d9c98349e": {
     "id": "c72b858e-1958-417e-9cd6-d10d9c98349e",
     "prev": "eedbf58d-b0b4-491d-bc99-0ff2b4fa9963",
     "regions": {
      "42bfd7aa-1c0c-4c4f-aea8-61b48297ac83": {
       "attrs": {
        "height": 0.8,
        "width": 0.8,
        "x": 0.1,
        "y": 0.1
       },
       "content": {
        "cell": "d2dd7e64-c08e-41c3-9dd8-eb6c32a3620f",
        "part": "whole"
       },
       "id": "42bfd7aa-1c0c-4c4f-aea8-61b48297ac83"
      }
     }
    },
    "cdabbe3b-8939-46dc-bc4b-b3dc06658586": {
     "id": "cdabbe3b-8939-46dc-bc4b-b3dc06658586",
     "prev": "1991c90c-4afd-4fe1-bbc6-d8f4b934dd68",
     "regions": {
      "31348a59-565d-4dd7-bd14-5ae6d73502d5": {
       "attrs": {
        "height": 0.8,
        "width": 0.8,
        "x": 0.1,
        "y": 0.1
       },
       "content": {
        "cell": "cc2dfaab-edc8-4758-ad31-8fbeb1f7ed2d",
        "part": "whole"
       },
       "id": "31348a59-565d-4dd7-bd14-5ae6d73502d5"
      }
     }
    },
    "cf28a623-c753-47a3-af52-903890a32abf": {
     "id": "cf28a623-c753-47a3-af52-903890a32abf",
     "prev": null,
     "regions": {
      "e02884c3-fb07-4581-89fe-dadfd492691d": {
       "attrs": {
        "height": 0.8,
        "width": 0.8,
        "x": 0.1,
        "y": 0.1
       },
       "content": {
        "cell": "8b63557d-343c-4341-b56b-c6db806a9c34",
        "part": "whole"
       },
       "id": "e02884c3-fb07-4581-89fe-dadfd492691d"
      }
     }
    },
    "cfc5684c-5a30-4fac-9da9-d2a483acbd9f": {
     "id": "cfc5684c-5a30-4fac-9da9-d2a483acbd9f",
     "prev": "eb436a68-45dc-4b64-b581-2c8cdc9ed7ab",
     "regions": {
      "3115c291-7fa0-4a6e-9673-5873b0e3faba": {
       "attrs": {
        "height": 0.8,
        "width": 0.8,
        "x": 0.1,
        "y": 0.1
       },
       "content": {
        "cell": "fd358bee-2da8-4cb4-8b2b-49a012cc9dea",
        "part": "whole"
       },
       "id": "3115c291-7fa0-4a6e-9673-5873b0e3faba"
      }
     }
    },
    "d8945a4d-95c3-445e-9485-15866504afe1": {
     "id": "d8945a4d-95c3-445e-9485-15866504afe1",
     "prev": "9cd97ed3-ad26-4db3-9843-9535651e63d9",
     "regions": {
      "c52daf15-447f-404b-82ed-c17a6ff7ba23": {
       "attrs": {
        "height": 0.8,
        "width": 0.8,
        "x": 0.1,
        "y": 0.1
       },
       "content": {
        "cell": "283870b9-5c1d-4087-a7cd-ba2f0c9795be",
        "part": "whole"
       },
       "id": "c52daf15-447f-404b-82ed-c17a6ff7ba23"
      }
     }
    },
    "e7e1632a-09eb-49c8-9d31-bf9c206712d5": {
     "id": "e7e1632a-09eb-49c8-9d31-bf9c206712d5",
     "prev": "eb057a51-c1c1-4177-bdc1-9dc13da9d93e",
     "regions": {
      "89485cb8-d32e-4d56-a8b5-18eb7017c0e5": {
       "attrs": {
        "height": 0.8,
        "width": 0.8,
        "x": 0.1,
        "y": 0.1
       },
       "content": {
        "cell": "a93239ae-904c-41ae-9062-e57609a30b2c",
        "part": "whole"
       },
       "id": "89485cb8-d32e-4d56-a8b5-18eb7017c0e5"
      }
     }
    },
    "eb057a51-c1c1-4177-bdc1-9dc13da9d93e": {
     "id": "eb057a51-c1c1-4177-bdc1-9dc13da9d93e",
     "prev": "6daf64ca-8b87-4ca7-af50-6da5cfd696d3",
     "regions": {
      "ed2d310e-31e2-499d-b565-f08952c1aa3f": {
       "attrs": {
        "height": 0.8,
        "width": 0.8,
        "x": 0.1,
        "y": 0.1
       },
       "content": {
        "cell": "46f4b619-8311-438b-9371-d53e70a75654",
        "part": "whole"
       },
       "id": "ed2d310e-31e2-499d-b565-f08952c1aa3f"
      }
     }
    },
    "eb436a68-45dc-4b64-b581-2c8cdc9ed7ab": {
     "id": "eb436a68-45dc-4b64-b581-2c8cdc9ed7ab",
     "prev": "892ccba9-bc13-4176-b60c-9032038d62a6",
     "regions": {
      "0adf306e-3e4f-482e-888d-da4c527e0ca0": {
       "attrs": {
        "height": 0.8,
        "width": 0.8,
        "x": 0.1,
        "y": 0.1
       },
       "content": {
        "cell": "79c4658b-d3c6-4e5e-97ea-bc833573780c",
        "part": "whole"
       },
       "id": "0adf306e-3e4f-482e-888d-da4c527e0ca0"
      }
     }
    },
    "eedbf58d-b0b4-491d-bc99-0ff2b4fa9963": {
     "id": "eedbf58d-b0b4-491d-bc99-0ff2b4fa9963",
     "prev": "bb851de2-c338-4aa5-ae9d-5c8af29d9c3f",
     "regions": {
      "da07335b-6512-44ee-b8a3-ada5444cd85b": {
       "attrs": {
        "height": 0.8,
        "width": 0.8,
        "x": 0.1,
        "y": 0.1
       },
       "content": {
        "cell": "91590dbe-d7ba-43fe-9bb7-4f1127846cdd",
        "part": "whole"
       },
       "id": "da07335b-6512-44ee-b8a3-ada5444cd85b"
      }
     }
    },
    "f217a93d-ec6a-4dcc-a8b7-399bcb7eae70": {
     "id": "f217a93d-ec6a-4dcc-a8b7-399bcb7eae70",
     "prev": "aff149e1-3c36-486d-99cc-e31f496c6761",
     "regions": {
      "9b8d9383-4750-49b9-9fdb-41106bee1901": {
       "attrs": {
        "height": 0.8,
        "width": 0.8,
        "x": 0.1,
        "y": 0.1
       },
       "content": {
        "cell": "4bb1e97b-757c-4032-a33e-0a09b269f33c",
        "part": "whole"
       },
       "id": "9b8d9383-4750-49b9-9fdb-41106bee1901"
      }
     }
    },
    "f5296d0b-0871-4fce-953d-3cf1695bf7d1": {
     "id": "f5296d0b-0871-4fce-953d-3cf1695bf7d1",
     "prev": "5396f312-2d0b-4469-b676-918724cc1b09",
     "regions": {
      "f139ec78-7581-4432-9b17-3ffeb1e84d1f": {
       "attrs": {
        "height": 0.8,
        "width": 0.8,
        "x": 0.1,
        "y": 0.1
       },
       "content": {
        "cell": "17de349e-7c63-450b-87e4-4a12b6e41d4c",
        "part": "whole"
       },
       "id": "f139ec78-7581-4432-9b17-3ffeb1e84d1f"
      }
     }
    },
    "fe52ca83-78e6-49f5-a727-d837766e4ac6": {
     "id": "fe52ca83-78e6-49f5-a727-d837766e4ac6",
     "prev": "32e39bff-d193-4488-b7a5-b5ee5a046483",
     "regions": {
      "9625d470-5843-4570-be9e-094f22e458ab": {
       "attrs": {
        "height": 0.8,
        "width": 0.8,
        "x": 0.1,
        "y": 0.1
       },
       "content": {
        "cell": "54223ff9-c4e6-48be-83ce-277d4b9e1ebc",
        "part": "whole"
       },
       "id": "9625d470-5843-4570-be9e-094f22e458ab"
      }
     }
    }
   },
   "themes": {
    "default": "8dfb5ec6-8e01-42f9-b848-95b917b2fd80",
    "theme": {
     "76870051-9f97-4233-b228-1c11f5dbdf0c": {
      "id": "76870051-9f97-4233-b228-1c11f5dbdf0c",
      "palette": {
       "19cc588f-0593-49c9-9f4b-e4d7cc113b1c": {
        "id": "19cc588f-0593-49c9-9f4b-e4d7cc113b1c",
        "rgb": [
         252,
         252,
         252
        ]
       },
       "31af15d2-7e15-44c5-ab5e-e04b16a89eff": {
        "id": "31af15d2-7e15-44c5-ab5e-e04b16a89eff",
        "rgb": [
         68,
         68,
         68
        ]
       },
       "50f92c45-a630-455b-aec3-788680ec7410": {
        "id": "50f92c45-a630-455b-aec3-788680ec7410",
        "rgb": [
         155,
         177,
         192
        ]
       },
       "c5cc3653-2ee1-402a-aba2-7caae1da4f6c": {
        "id": "c5cc3653-2ee1-402a-aba2-7caae1da4f6c",
        "rgb": [
         43,
         126,
         184
        ]
       },
       "efa7f048-9acb-414c-8b04-a26811511a21": {
        "id": "efa7f048-9acb-414c-8b04-a26811511a21",
        "rgb": [
         25.118061674008803,
         73.60176211453744,
         107.4819383259912
        ]
       }
      },
      "rules": {
       "blockquote": {
        "color": "50f92c45-a630-455b-aec3-788680ec7410"
       },
       "code": {
        "font-family": "Anonymous Pro"
       },
       "h1": {
        "color": "c5cc3653-2ee1-402a-aba2-7caae1da4f6c",
        "font-family": "Lato",
        "font-size": 8
       },
       "h2": {
        "color": "c5cc3653-2ee1-402a-aba2-7caae1da4f6c",
        "font-family": "Lato",
        "font-size": 6
       },
       "h3": {
        "color": "50f92c45-a630-455b-aec3-788680ec7410",
        "font-family": "Lato",
        "font-size": 5.5
       },
       "h4": {
        "color": "c5cc3653-2ee1-402a-aba2-7caae1da4f6c",
        "font-family": "Lato",
        "font-size": 5
       },
       "h5": {
        "font-family": "Lato"
       },
       "h6": {
        "font-family": "Lato"
       },
       "h7": {
        "font-family": "Lato"
       },
       "pre": {
        "font-family": "Anonymous Pro",
        "font-size": 4
       }
      },
      "text-base": {
       "font-family": "Merriweather",
       "font-size": 4
      }
     },
     "8dfb5ec6-8e01-42f9-b848-95b917b2fd80": {
      "id": "8dfb5ec6-8e01-42f9-b848-95b917b2fd80",
      "palette": {
       "19cc588f-0593-49c9-9f4b-e4d7cc113b1c": {
        "id": "19cc588f-0593-49c9-9f4b-e4d7cc113b1c",
        "rgb": [
         252,
         252,
         252
        ]
       },
       "31af15d2-7e15-44c5-ab5e-e04b16a89eff": {
        "id": "31af15d2-7e15-44c5-ab5e-e04b16a89eff",
        "rgb": [
         68,
         68,
         68
        ]
       },
       "50f92c45-a630-455b-aec3-788680ec7410": {
        "id": "50f92c45-a630-455b-aec3-788680ec7410",
        "rgb": [
         155,
         177,
         192
        ]
       },
       "c5cc3653-2ee1-402a-aba2-7caae1da4f6c": {
        "id": "c5cc3653-2ee1-402a-aba2-7caae1da4f6c",
        "rgb": [
         43,
         126,
         184
        ]
       },
       "efa7f048-9acb-414c-8b04-a26811511a21": {
        "id": "efa7f048-9acb-414c-8b04-a26811511a21",
        "rgb": [
         25.118061674008803,
         73.60176211453744,
         107.4819383259912
        ]
       }
      },
      "rules": {
       "blockquote": {
        "color": "50f92c45-a630-455b-aec3-788680ec7410"
       },
       "code": {
        "font-family": "Anonymous Pro"
       },
       "h1": {
        "color": "c5cc3653-2ee1-402a-aba2-7caae1da4f6c",
        "font-family": "Lato",
        "font-size": 8
       },
       "h2": {
        "color": "c5cc3653-2ee1-402a-aba2-7caae1da4f6c",
        "font-family": "Lato",
        "font-size": 6
       },
       "h3": {
        "color": "50f92c45-a630-455b-aec3-788680ec7410",
        "font-family": "Lato",
        "font-size": 5.5
       },
       "h4": {
        "color": "c5cc3653-2ee1-402a-aba2-7caae1da4f6c",
        "font-family": "Lato",
        "font-size": 5
       },
       "h5": {
        "font-family": "Lato"
       },
       "h6": {
        "font-family": "Lato"
       },
       "h7": {
        "font-family": "Lato"
       },
       "pre": {
        "font-family": "Anonymous Pro",
        "font-size": 4
       }
      },
      "text-base": {
       "font-family": "Merriweather",
       "font-size": 4
      }
     }
    }
   }
  }
 },
 "nbformat": 4,
 "nbformat_minor": 2
}
